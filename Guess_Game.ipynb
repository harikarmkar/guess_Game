{
 "cells": [
  {
   "cell_type": "code",
   "execution_count": 4,
   "id": "c0d44b59",
   "metadata": {},
   "outputs": [],
   "source": [
    "import random"
   ]
  },
  {
   "cell_type": "code",
   "execution_count": 51,
   "id": "86b45ba2",
   "metadata": {},
   "outputs": [
    {
     "name": "stdout",
     "output_type": "stream",
     "text": [
      "Enter your name : grgrad\n",
      "Good Luck! grgrad\n"
     ]
    }
   ],
   "source": [
    "name = input(\"Enter your name : \")\n",
    "print(\"Good Luck!\",name)"
   ]
  },
  {
   "cell_type": "raw",
   "id": "f0a902ed",
   "metadata": {},
   "source": []
  },
  {
   "cell_type": "code",
   "execution_count": 18,
   "id": "dd02d3a6",
   "metadata": {},
   "outputs": [],
   "source": [
    "words = [\"rainbow\",\"computer\",\"player\",\"programming\",\"python\",\"mathematics\",\"player\",\"condition\",\"reverse\",\"water\",\"board\",\"geeks\"]"
   ]
  },
  {
   "cell_type": "code",
   "execution_count": 164,
   "id": "8646f070",
   "metadata": {},
   "outputs": [
    {
     "data": {
      "text/plain": [
       "'geeks'"
      ]
     },
     "execution_count": 164,
     "metadata": {},
     "output_type": "execute_result"
    }
   ],
   "source": [
    "systemGuess = words[random.randrange(0, len(words))]\n",
    "systemGuess"
   ]
  },
  {
   "cell_type": "code",
   "execution_count": 165,
   "id": "f6c4694d",
   "metadata": {},
   "outputs": [
    {
     "name": "stdout",
     "output_type": "stream",
     "text": [
      "Enter your choicegeeks\n",
      "You Won\n"
     ]
    }
   ],
   "source": [
    "turns = 0\n",
    "won = False;\n",
    "\n",
    "while(turns<12):\n",
    "    yourGuess = input(\"Enter your choice\")\n",
    "    if(yourGuess==systemGuess):\n",
    "        won = True\n",
    "        break;\n",
    "    else:\n",
    "        print(\"Wrong Answer\")\n",
    "    turns+=1\n",
    "\n",
    "if won is False:\n",
    "    print(\"You Lost\")\n",
    "else:\n",
    "    print(\"You Won\")"
   ]
  },
  {
   "cell_type": "code",
   "execution_count": null,
   "id": "99fdf28c",
   "metadata": {},
   "outputs": [],
   "source": []
  },
  {
   "cell_type": "code",
   "execution_count": null,
   "id": "d2aacace",
   "metadata": {},
   "outputs": [],
   "source": []
  },
  {
   "cell_type": "code",
   "execution_count": null,
   "id": "35828798",
   "metadata": {},
   "outputs": [],
   "source": []
  },
  {
   "cell_type": "code",
   "execution_count": null,
   "id": "17a20180",
   "metadata": {},
   "outputs": [],
   "source": []
  },
  {
   "cell_type": "code",
   "execution_count": 15,
   "id": "9d55ab27",
   "metadata": {},
   "outputs": [
    {
     "data": {
      "text/plain": [
       "'condition'"
      ]
     },
     "execution_count": 15,
     "metadata": {},
     "output_type": "execute_result"
    }
   ],
   "source": [
    "word = random.choice(words)\n",
    "word"
   ]
  }
 ],
 "metadata": {
  "kernelspec": {
   "display_name": "Python 3 (ipykernel)",
   "language": "python",
   "name": "python3"
  },
  "language_info": {
   "codemirror_mode": {
    "name": "ipython",
    "version": 3
   },
   "file_extension": ".py",
   "mimetype": "text/x-python",
   "name": "python",
   "nbconvert_exporter": "python",
   "pygments_lexer": "ipython3",
   "version": "3.11.5"
  }
 },
 "nbformat": 4,
 "nbformat_minor": 5
}
